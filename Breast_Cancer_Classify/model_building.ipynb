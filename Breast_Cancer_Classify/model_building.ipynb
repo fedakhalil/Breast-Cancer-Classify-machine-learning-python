{
 "cells": [
  {
   "cell_type": "markdown",
   "metadata": {},
   "source": [
    "# Attribute Informations \n",
    "\n",
    "* Sample code number: id number\n",
    "* Clump Thickness: 1 - 10\n",
    "* Uniformity of Cell Size: 1 - 10\n",
    "* Uniformity of Cell Shape: 1 - 10\n",
    "* Marginal Adhesion: 1 - 10\n",
    "* Single Epithelial Cell Size: 1 - 10\n",
    "* Bare Nuclei: 1 - 10\n",
    "* Bland Chromatin: 1 - 10\n",
    "* Normal Nucleoli: 1 - 10\n",
    "* Mitoses: 1 - 10\n",
    "* Class: (2 for benign, 4 for malignant)"
   ]
  },
  {
   "cell_type": "code",
   "execution_count": 1,
   "metadata": {},
   "outputs": [],
   "source": [
    "import numpy as np\n",
    "import pandas as pd\n",
    "import matplotlib.pyplot as plt\n",
    "import seaborn as sns\n",
    "import statsmodels.api as sm\n",
    "from sklearn.model_selection import train_test_split, cross_val_score, GridSearchCV\n",
    "from sklearn.metrics import accuracy_score, classification_report, confusion_matrix, roc_auc_score, roc_curve\n",
    "from sklearn.linear_model import LogisticRegression\n",
    "from sklearn.neighbors import KNeighborsClassifier\n",
    "from sklearn.svm import SVC\n",
    "from sklearn.neural_network import MLPClassifier\n",
    "from sklearn.tree import DecisionTreeClassifier\n",
    "from sklearn.ensemble import RandomForestClassifier\n",
    "from sklearn.ensemble import GradientBoostingClassifier\n",
    "from lightgbm import LGBMClassifier\n",
    "from warnings import filterwarnings\n",
    "filterwarnings(\"ignore\")"
   ]
  },
  {
   "cell_type": "code",
   "execution_count": 2,
   "metadata": {},
   "outputs": [
    {
     "data": {
      "text/html": [
       "<div>\n",
       "<style scoped>\n",
       "    .dataframe tbody tr th:only-of-type {\n",
       "        vertical-align: middle;\n",
       "    }\n",
       "\n",
       "    .dataframe tbody tr th {\n",
       "        vertical-align: top;\n",
       "    }\n",
       "\n",
       "    .dataframe thead th {\n",
       "        text-align: right;\n",
       "    }\n",
       "</style>\n",
       "<table border=\"1\" class=\"dataframe\">\n",
       "  <thead>\n",
       "    <tr style=\"text-align: right;\">\n",
       "      <th></th>\n",
       "      <th>Sample code number</th>\n",
       "      <th>Clump Thickness</th>\n",
       "      <th>Uniformity of Cell Size</th>\n",
       "      <th>Uniformity of Cell Shape</th>\n",
       "      <th>Marginal Adhesion</th>\n",
       "      <th>Single Epithelial Cell Size</th>\n",
       "      <th>Bare Nuclei</th>\n",
       "      <th>Bland Chromatin</th>\n",
       "      <th>Normal Nucleoli</th>\n",
       "      <th>Mitoses</th>\n",
       "      <th>Class</th>\n",
       "    </tr>\n",
       "  </thead>\n",
       "  <tbody>\n",
       "    <tr>\n",
       "      <td>0</td>\n",
       "      <td>1000025</td>\n",
       "      <td>5</td>\n",
       "      <td>1</td>\n",
       "      <td>1</td>\n",
       "      <td>1</td>\n",
       "      <td>2</td>\n",
       "      <td>1</td>\n",
       "      <td>3</td>\n",
       "      <td>1</td>\n",
       "      <td>1</td>\n",
       "      <td>2</td>\n",
       "    </tr>\n",
       "    <tr>\n",
       "      <td>1</td>\n",
       "      <td>1002945</td>\n",
       "      <td>5</td>\n",
       "      <td>4</td>\n",
       "      <td>4</td>\n",
       "      <td>5</td>\n",
       "      <td>7</td>\n",
       "      <td>10</td>\n",
       "      <td>3</td>\n",
       "      <td>2</td>\n",
       "      <td>1</td>\n",
       "      <td>2</td>\n",
       "    </tr>\n",
       "    <tr>\n",
       "      <td>2</td>\n",
       "      <td>1015425</td>\n",
       "      <td>3</td>\n",
       "      <td>1</td>\n",
       "      <td>1</td>\n",
       "      <td>1</td>\n",
       "      <td>2</td>\n",
       "      <td>2</td>\n",
       "      <td>3</td>\n",
       "      <td>1</td>\n",
       "      <td>1</td>\n",
       "      <td>2</td>\n",
       "    </tr>\n",
       "    <tr>\n",
       "      <td>3</td>\n",
       "      <td>1016277</td>\n",
       "      <td>6</td>\n",
       "      <td>8</td>\n",
       "      <td>8</td>\n",
       "      <td>1</td>\n",
       "      <td>3</td>\n",
       "      <td>4</td>\n",
       "      <td>3</td>\n",
       "      <td>7</td>\n",
       "      <td>1</td>\n",
       "      <td>2</td>\n",
       "    </tr>\n",
       "    <tr>\n",
       "      <td>4</td>\n",
       "      <td>1017023</td>\n",
       "      <td>4</td>\n",
       "      <td>1</td>\n",
       "      <td>1</td>\n",
       "      <td>3</td>\n",
       "      <td>2</td>\n",
       "      <td>1</td>\n",
       "      <td>3</td>\n",
       "      <td>1</td>\n",
       "      <td>1</td>\n",
       "      <td>2</td>\n",
       "    </tr>\n",
       "  </tbody>\n",
       "</table>\n",
       "</div>"
      ],
      "text/plain": [
       "   Sample code number  Clump Thickness  Uniformity of Cell Size  \\\n",
       "0             1000025                5                        1   \n",
       "1             1002945                5                        4   \n",
       "2             1015425                3                        1   \n",
       "3             1016277                6                        8   \n",
       "4             1017023                4                        1   \n",
       "\n",
       "   Uniformity of Cell Shape  Marginal Adhesion  Single Epithelial Cell Size  \\\n",
       "0                         1                  1                            2   \n",
       "1                         4                  5                            7   \n",
       "2                         1                  1                            2   \n",
       "3                         8                  1                            3   \n",
       "4                         1                  3                            2   \n",
       "\n",
       "   Bare Nuclei  Bland Chromatin  Normal Nucleoli  Mitoses  Class  \n",
       "0            1                3                1        1      2  \n",
       "1           10                3                2        1      2  \n",
       "2            2                3                1        1      2  \n",
       "3            4                3                7        1      2  \n",
       "4            1                3                1        1      2  "
      ]
     },
     "execution_count": 2,
     "metadata": {},
     "output_type": "execute_result"
    }
   ],
   "source": [
    "data = pd.read_csv(\"Breast Cancer Prediction.csv\")\n",
    "df = data.copy()\n",
    "df.head()"
   ]
  },
  {
   "cell_type": "code",
   "execution_count": 3,
   "metadata": {},
   "outputs": [
    {
     "name": "stdout",
     "output_type": "stream",
     "text": [
      "<class 'pandas.core.frame.DataFrame'>\n",
      "RangeIndex: 683 entries, 0 to 682\n",
      "Data columns (total 11 columns):\n",
      "Sample code number             683 non-null int64\n",
      "Clump Thickness                683 non-null int64\n",
      "Uniformity of Cell Size        683 non-null int64\n",
      "Uniformity of Cell Shape       683 non-null int64\n",
      "Marginal Adhesion              683 non-null int64\n",
      "Single Epithelial Cell Size    683 non-null int64\n",
      "Bare Nuclei                    683 non-null int64\n",
      "Bland Chromatin                683 non-null int64\n",
      "Normal Nucleoli                683 non-null int64\n",
      "Mitoses                        683 non-null int64\n",
      "Class                          683 non-null int64\n",
      "dtypes: int64(11)\n",
      "memory usage: 58.8 KB\n"
     ]
    }
   ],
   "source": [
    "df.info()"
   ]
  },
  {
   "cell_type": "code",
   "execution_count": 4,
   "metadata": {},
   "outputs": [
    {
     "data": {
      "text/html": [
       "<div>\n",
       "<style scoped>\n",
       "    .dataframe tbody tr th:only-of-type {\n",
       "        vertical-align: middle;\n",
       "    }\n",
       "\n",
       "    .dataframe tbody tr th {\n",
       "        vertical-align: top;\n",
       "    }\n",
       "\n",
       "    .dataframe thead th {\n",
       "        text-align: right;\n",
       "    }\n",
       "</style>\n",
       "<table border=\"1\" class=\"dataframe\">\n",
       "  <thead>\n",
       "    <tr style=\"text-align: right;\">\n",
       "      <th></th>\n",
       "      <th>count</th>\n",
       "      <th>mean</th>\n",
       "      <th>std</th>\n",
       "      <th>min</th>\n",
       "      <th>25%</th>\n",
       "      <th>50%</th>\n",
       "      <th>75%</th>\n",
       "      <th>max</th>\n",
       "    </tr>\n",
       "  </thead>\n",
       "  <tbody>\n",
       "    <tr>\n",
       "      <td>Sample code number</td>\n",
       "      <td>683.0</td>\n",
       "      <td>1.076720e+06</td>\n",
       "      <td>620644.047655</td>\n",
       "      <td>63375.0</td>\n",
       "      <td>877617.0</td>\n",
       "      <td>1171795.0</td>\n",
       "      <td>1238705.0</td>\n",
       "      <td>13454352.0</td>\n",
       "    </tr>\n",
       "    <tr>\n",
       "      <td>Clump Thickness</td>\n",
       "      <td>683.0</td>\n",
       "      <td>4.442167e+00</td>\n",
       "      <td>2.820761</td>\n",
       "      <td>1.0</td>\n",
       "      <td>2.0</td>\n",
       "      <td>4.0</td>\n",
       "      <td>6.0</td>\n",
       "      <td>10.0</td>\n",
       "    </tr>\n",
       "    <tr>\n",
       "      <td>Uniformity of Cell Size</td>\n",
       "      <td>683.0</td>\n",
       "      <td>3.150805e+00</td>\n",
       "      <td>3.065145</td>\n",
       "      <td>1.0</td>\n",
       "      <td>1.0</td>\n",
       "      <td>1.0</td>\n",
       "      <td>5.0</td>\n",
       "      <td>10.0</td>\n",
       "    </tr>\n",
       "    <tr>\n",
       "      <td>Uniformity of Cell Shape</td>\n",
       "      <td>683.0</td>\n",
       "      <td>3.215227e+00</td>\n",
       "      <td>2.988581</td>\n",
       "      <td>1.0</td>\n",
       "      <td>1.0</td>\n",
       "      <td>1.0</td>\n",
       "      <td>5.0</td>\n",
       "      <td>10.0</td>\n",
       "    </tr>\n",
       "    <tr>\n",
       "      <td>Marginal Adhesion</td>\n",
       "      <td>683.0</td>\n",
       "      <td>2.830161e+00</td>\n",
       "      <td>2.864562</td>\n",
       "      <td>1.0</td>\n",
       "      <td>1.0</td>\n",
       "      <td>1.0</td>\n",
       "      <td>4.0</td>\n",
       "      <td>10.0</td>\n",
       "    </tr>\n",
       "    <tr>\n",
       "      <td>Single Epithelial Cell Size</td>\n",
       "      <td>683.0</td>\n",
       "      <td>3.234261e+00</td>\n",
       "      <td>2.223085</td>\n",
       "      <td>1.0</td>\n",
       "      <td>2.0</td>\n",
       "      <td>2.0</td>\n",
       "      <td>4.0</td>\n",
       "      <td>10.0</td>\n",
       "    </tr>\n",
       "    <tr>\n",
       "      <td>Bare Nuclei</td>\n",
       "      <td>683.0</td>\n",
       "      <td>3.544656e+00</td>\n",
       "      <td>3.643857</td>\n",
       "      <td>1.0</td>\n",
       "      <td>1.0</td>\n",
       "      <td>1.0</td>\n",
       "      <td>6.0</td>\n",
       "      <td>10.0</td>\n",
       "    </tr>\n",
       "    <tr>\n",
       "      <td>Bland Chromatin</td>\n",
       "      <td>683.0</td>\n",
       "      <td>3.445095e+00</td>\n",
       "      <td>2.449697</td>\n",
       "      <td>1.0</td>\n",
       "      <td>2.0</td>\n",
       "      <td>3.0</td>\n",
       "      <td>5.0</td>\n",
       "      <td>10.0</td>\n",
       "    </tr>\n",
       "    <tr>\n",
       "      <td>Normal Nucleoli</td>\n",
       "      <td>683.0</td>\n",
       "      <td>2.869693e+00</td>\n",
       "      <td>3.052666</td>\n",
       "      <td>1.0</td>\n",
       "      <td>1.0</td>\n",
       "      <td>1.0</td>\n",
       "      <td>4.0</td>\n",
       "      <td>10.0</td>\n",
       "    </tr>\n",
       "    <tr>\n",
       "      <td>Mitoses</td>\n",
       "      <td>683.0</td>\n",
       "      <td>1.603221e+00</td>\n",
       "      <td>1.732674</td>\n",
       "      <td>1.0</td>\n",
       "      <td>1.0</td>\n",
       "      <td>1.0</td>\n",
       "      <td>1.0</td>\n",
       "      <td>10.0</td>\n",
       "    </tr>\n",
       "    <tr>\n",
       "      <td>Class</td>\n",
       "      <td>683.0</td>\n",
       "      <td>2.699854e+00</td>\n",
       "      <td>0.954592</td>\n",
       "      <td>2.0</td>\n",
       "      <td>2.0</td>\n",
       "      <td>2.0</td>\n",
       "      <td>4.0</td>\n",
       "      <td>4.0</td>\n",
       "    </tr>\n",
       "  </tbody>\n",
       "</table>\n",
       "</div>"
      ],
      "text/plain": [
       "                             count          mean            std      min  \\\n",
       "Sample code number           683.0  1.076720e+06  620644.047655  63375.0   \n",
       "Clump Thickness              683.0  4.442167e+00       2.820761      1.0   \n",
       "Uniformity of Cell Size      683.0  3.150805e+00       3.065145      1.0   \n",
       "Uniformity of Cell Shape     683.0  3.215227e+00       2.988581      1.0   \n",
       "Marginal Adhesion            683.0  2.830161e+00       2.864562      1.0   \n",
       "Single Epithelial Cell Size  683.0  3.234261e+00       2.223085      1.0   \n",
       "Bare Nuclei                  683.0  3.544656e+00       3.643857      1.0   \n",
       "Bland Chromatin              683.0  3.445095e+00       2.449697      1.0   \n",
       "Normal Nucleoli              683.0  2.869693e+00       3.052666      1.0   \n",
       "Mitoses                      683.0  1.603221e+00       1.732674      1.0   \n",
       "Class                        683.0  2.699854e+00       0.954592      2.0   \n",
       "\n",
       "                                  25%        50%        75%         max  \n",
       "Sample code number           877617.0  1171795.0  1238705.0  13454352.0  \n",
       "Clump Thickness                   2.0        4.0        6.0        10.0  \n",
       "Uniformity of Cell Size           1.0        1.0        5.0        10.0  \n",
       "Uniformity of Cell Shape          1.0        1.0        5.0        10.0  \n",
       "Marginal Adhesion                 1.0        1.0        4.0        10.0  \n",
       "Single Epithelial Cell Size       2.0        2.0        4.0        10.0  \n",
       "Bare Nuclei                       1.0        1.0        6.0        10.0  \n",
       "Bland Chromatin                   2.0        3.0        5.0        10.0  \n",
       "Normal Nucleoli                   1.0        1.0        4.0        10.0  \n",
       "Mitoses                           1.0        1.0        1.0        10.0  \n",
       "Class                             2.0        2.0        4.0         4.0  "
      ]
     },
     "execution_count": 4,
     "metadata": {},
     "output_type": "execute_result"
    }
   ],
   "source": [
    "df.describe().T"
   ]
  },
  {
   "cell_type": "markdown",
   "metadata": {},
   "source": [
    "## Model Building"
   ]
  },
  {
   "cell_type": "code",
   "execution_count": 5,
   "metadata": {},
   "outputs": [],
   "source": [
    "# split dataset\n",
    "\n",
    "X = df.drop([\"Sample code number\",\"Class\"], axis = 1)\n",
    "y = df[\"Class\"]"
   ]
  },
  {
   "cell_type": "code",
   "execution_count": 6,
   "metadata": {},
   "outputs": [],
   "source": [
    "# train test split\n",
    "\n",
    "X_train, X_test, y_train, y_test = train_test_split(X,y, test_size = 0.25, random_state = 25)"
   ]
  },
  {
   "cell_type": "code",
   "execution_count": 7,
   "metadata": {},
   "outputs": [],
   "source": [
    "model_names = [LogisticRegression,\n",
    "         KNeighborsClassifier,\n",
    "         MLPClassifier,\n",
    "         DecisionTreeClassifier,\n",
    "         RandomForestClassifier,\n",
    "         GradientBoostingClassifier,\n",
    "         LGBMClassifier]"
   ]
  },
  {
   "cell_type": "code",
   "execution_count": 8,
   "metadata": {},
   "outputs": [],
   "source": [
    "# Test Performance with default parameters of Models\n",
    "\n",
    "def first_test(models):\n",
    "    for name in models:\n",
    "        model_name = name().fit(X_train, y_train)\n",
    "        results = name.__name__,\"Test performance: \" + str(accuracy_score(y_test, model_name.predict(X_test)))\n",
    "        print(results)"
   ]
  },
  {
   "cell_type": "code",
   "execution_count": 9,
   "metadata": {},
   "outputs": [
    {
     "name": "stdout",
     "output_type": "stream",
     "text": [
      "('LogisticRegression', 'Test performance: 0.9707602339181286')\n",
      "('KNeighborsClassifier', 'Test performance: 0.9766081871345029')\n",
      "('MLPClassifier', 'Test performance: 0.9766081871345029')\n",
      "('DecisionTreeClassifier', 'Test performance: 0.9298245614035088')\n",
      "('RandomForestClassifier', 'Test performance: 0.9532163742690059')\n",
      "('GradientBoostingClassifier', 'Test performance: 0.9532163742690059')\n",
      "('LGBMClassifier', 'Test performance: 0.9532163742690059')\n"
     ]
    }
   ],
   "source": [
    "# Results\n",
    "\n",
    "first_test(model_names)"
   ]
  },
  {
   "cell_type": "markdown",
   "metadata": {},
   "source": [
    "## Hyperparameter optimization"
   ]
  },
  {
   "cell_type": "code",
   "execution_count": 10,
   "metadata": {},
   "outputs": [],
   "source": [
    "# Optimization models with best parameters\n",
    "\n",
    "def optimization(model_list):\n",
    "    for name in model_list:\n",
    "        if name.__name__ == \"LogisticRegression\":\n",
    "            log_model = name()\n",
    "            log_params = {\"C\" : range(1,10)}\n",
    "            tuned_model = GridSearchCV(log_model, log_params, cv = 10).fit(X_train, y_train)\n",
    "            global log_tuned_model\n",
    "            log_tuned_model = name(C = tuned_model.best_params_.get(\"C\")).fit(X_train, y_train)\n",
    "            global log_result\n",
    "            log_result =  name.__name__, accuracy_score(y_test, log_tuned_model.predict(X_test))\n",
    "\n",
    "        elif name.__name__ == \"KNeighborsClassifier\":\n",
    "            knn_model = name()\n",
    "            knn_params = {\"n_neighbors\" : range(1,20)}\n",
    "            tuned_model = GridSearchCV(knn_model, knn_params, cv = 10).fit(X_train, y_train)\n",
    "            global knn_tuned_model\n",
    "            knn_tuned_model = name(n_neighbors = tuned_model.best_params_.get(\"n_neighbors\")).fit(X_train,y_train)\n",
    "            global knn_result\n",
    "            knn_result = name.__name__, accuracy_score(y_test, knn_tuned_model.predict(X_test))\n",
    "        elif name.__name__ == \"MLPClassifier\":\n",
    "            mlp_model = name()\n",
    "            mlp_params = {\"alpha\": [0.01, 0.02, 0.0001,0.00001],\n",
    "                          \"hidden_layer_sizes\": [(10,10,10),(100,100,100),(100,100)],\n",
    "                          \"solver\" : [\"lbfgs\",\"adam\",\"sgd\"],\n",
    "                          \"activation\": [\"relu\",\"logistic\"]}\n",
    "            tuned_model = GridSearchCV(mlp_model, mlp_params, cv = 10, n_jobs = -1).fit(X_train,y_train)\n",
    "            best_params = tuned_model.best_params_\n",
    "            global mlp_tuned_model\n",
    "            mlp_tuned_model = name(alpha = best_params.get(\"alpha\"),\n",
    "                                  hidden_layer_sizes = best_params.get(\"hidden_layer_sizes\"),\n",
    "                                   solver = best_params.get(\"solver\"),\n",
    "                                   activation = best_params.get(\"activation\")).fit(X_train,y_train)\n",
    "            global mlp_result\n",
    "            mlp_result = name.__name__, accuracy_score(y_test, mlp_tuned_model.predict(X_test))\n",
    "        elif name.__name__ == \"DecisionTreeClassifier\":\n",
    "            cart_model = name()\n",
    "            cart_params = {\"max_depth\" : [10,20,50],\n",
    "                          \"min_samples_split\" : range(2,10),\n",
    "                          \"min_samples_leaf\" : range(1,10)}\n",
    "            tuned_model = GridSearchCV(cart_model, cart_params, cv = 10, n_jobs = -1).fit(X_train,y_train)\n",
    "            best_params = tuned_model.best_params_\n",
    "            global cart_tuned_model\n",
    "            cart_tuned_model = name(max_depth = best_params.get(\"max_depth\"),\n",
    "                                   min_samples_split = best_params.get(\"min_samples_split\"),\n",
    "                                   min_samples_leaf = best_params.get(\"min_samples_leaf\")).fit(X_train, y_train)\n",
    "            global cart_result\n",
    "            cart_result = name.__name__, accuracy_score(y_test, cart_tuned_model.predict(X_test))\n",
    "        elif name.__name__ == \"RandomForestClassifier\":\n",
    "            rf_model = name()\n",
    "            rf_params = {\"n_estimators\" : [50,100,200],\n",
    "                          \"max_depth\" : [10,20,50],\n",
    "                          \"min_samples_split\" : range(2,10),\n",
    "                          \"max_features\" : [3,6,9]}\n",
    "            tuned_model = GridSearchCV(rf_model, rf_params, cv = 10, n_jobs = -1).fit(X_train,y_train)\n",
    "            best_params = tuned_model.best_params_\n",
    "            global rf_tuned_model\n",
    "            rf_tuned_model = name(max_depth = best_params.get(\"max_depth\"),\n",
    "                                   min_samples_split = best_params.get(\"min_samples_split\"),\n",
    "                                   n_estimators = best_params.get(\"n_estimators\")).fit(X_train, y_train)\n",
    "            global rf_result\n",
    "            rf_result = name.__name__, accuracy_score(y_test, rf_tuned_model.predict(X_test))\n",
    "        elif name.__name__ == \"GradientBoostingClassifier\":\n",
    "            gbm_model = name()\n",
    "            gbm_params = {\"learning_rate\" : [0.01, 0.1, 0.05],\n",
    "                         \"n_estimators\": [50,100,200],\n",
    "                         \"max_depth\": [3,5,10],\n",
    "                         \"min_samples_split\": [2,5,10]}\n",
    "            tuned_model = GridSearchCV(gbm_model, gbm_params, cv = 10).fit(X_train,y_train)\n",
    "            best_params = tuned_model.best_params_\n",
    "            global gbm_tuned_model\n",
    "            gbm_tuned_model = name(max_depth = best_params.get(\"max_depth\"),\n",
    "                                   min_samples_split = best_params.get(\"min_samples_split\"),\n",
    "                                   n_estimators = best_params.get(\"n_estimators\"),\n",
    "                                   learning_rate = best_params.get(\"learning_rate\")).fit(X_train, y_train)\n",
    "            global gbm_result\n",
    "            gbm_result = name.__name__, accuracy_score(y_test, gbm_tuned_model.predict(X_test))\n",
    "        elif name.__name__ == \"LGBMClassifier\":\n",
    "            lgbm_model = name()\n",
    "            lgbm_params = {\"n_estimators\": [50, 100, 200],\n",
    "                          \"subsample\": [0.6, 0.8, 1.0],\n",
    "                          \"max_depth\": [3, 4,6],\n",
    "                          \"learning_rate\": [0.1,0.01,0.02],\n",
    "                          \"min_child_samples\": [2,5,10]}\n",
    "            tuned_model = GridSearchCV(lgbm_model, lgbm_params, cv = 10).fit(X_train,y_train)\n",
    "            best_params = tuned_model.best_params_\n",
    "            global lgbm_tuned_model\n",
    "            lgbm_tuned_model = name(max_depth = best_params.get(\"max_depth\"),\n",
    "                                   min_child_samples = best_params.get(\"min_child_samples\"),\n",
    "                                   n_estimators = best_params.get(\"n_estimators\"),\n",
    "                                   learning_rate = best_params.get(\"learning_rate\"),\n",
    "                                   subsample = best_params.get(\"subsample\")).fit(X_train, y_train)\n",
    "            global lgbm_result\n",
    "            lgbm_result = name.__name__, accuracy_score(y_test, lgbm_tuned_model.predict(X_test))\n",
    "            \n",
    "    return log_result, knn_result, mlp_result, cart_result, rf_result, gbm_result, lgbm_result"
   ]
  },
  {
   "cell_type": "code",
   "execution_count": 11,
   "metadata": {},
   "outputs": [
    {
     "data": {
      "text/plain": [
       "(('LogisticRegression', 0.9649122807017544),\n",
       " ('KNeighborsClassifier', 0.9766081871345029),\n",
       " ('MLPClassifier', 0.9649122807017544),\n",
       " ('DecisionTreeClassifier', 0.9415204678362573),\n",
       " ('RandomForestClassifier', 0.9707602339181286),\n",
       " ('GradientBoostingClassifier', 0.9473684210526315),\n",
       " ('LGBMClassifier', 0.9473684210526315))"
      ]
     },
     "execution_count": 11,
     "metadata": {},
     "output_type": "execute_result"
    }
   ],
   "source": [
    "results = optimization(model_names)\n",
    "results"
   ]
  },
  {
   "cell_type": "code",
   "execution_count": 12,
   "metadata": {},
   "outputs": [
    {
     "data": {
      "text/html": [
       "<div>\n",
       "<style scoped>\n",
       "    .dataframe tbody tr th:only-of-type {\n",
       "        vertical-align: middle;\n",
       "    }\n",
       "\n",
       "    .dataframe tbody tr th {\n",
       "        vertical-align: top;\n",
       "    }\n",
       "\n",
       "    .dataframe thead th {\n",
       "        text-align: right;\n",
       "    }\n",
       "</style>\n",
       "<table border=\"1\" class=\"dataframe\">\n",
       "  <thead>\n",
       "    <tr style=\"text-align: right;\">\n",
       "      <th></th>\n",
       "      <th>model</th>\n",
       "      <th>score</th>\n",
       "    </tr>\n",
       "  </thead>\n",
       "  <tbody>\n",
       "    <tr>\n",
       "      <td>0</td>\n",
       "      <td>LogisticRegression</td>\n",
       "      <td>0.964912</td>\n",
       "    </tr>\n",
       "    <tr>\n",
       "      <td>1</td>\n",
       "      <td>KNeighborsClassifier</td>\n",
       "      <td>0.976608</td>\n",
       "    </tr>\n",
       "    <tr>\n",
       "      <td>2</td>\n",
       "      <td>MLPClassifier</td>\n",
       "      <td>0.964912</td>\n",
       "    </tr>\n",
       "    <tr>\n",
       "      <td>3</td>\n",
       "      <td>DecisionTreeClassifier</td>\n",
       "      <td>0.941520</td>\n",
       "    </tr>\n",
       "    <tr>\n",
       "      <td>4</td>\n",
       "      <td>RandomForestClassifier</td>\n",
       "      <td>0.970760</td>\n",
       "    </tr>\n",
       "    <tr>\n",
       "      <td>5</td>\n",
       "      <td>GradientBoostingClassifier</td>\n",
       "      <td>0.947368</td>\n",
       "    </tr>\n",
       "    <tr>\n",
       "      <td>6</td>\n",
       "      <td>LGBMClassifier</td>\n",
       "      <td>0.947368</td>\n",
       "    </tr>\n",
       "  </tbody>\n",
       "</table>\n",
       "</div>"
      ],
      "text/plain": [
       "                        model     score\n",
       "0          LogisticRegression  0.964912\n",
       "1        KNeighborsClassifier  0.976608\n",
       "2               MLPClassifier  0.964912\n",
       "3      DecisionTreeClassifier  0.941520\n",
       "4      RandomForestClassifier  0.970760\n",
       "5  GradientBoostingClassifier  0.947368\n",
       "6              LGBMClassifier  0.947368"
      ]
     },
     "execution_count": 12,
     "metadata": {},
     "output_type": "execute_result"
    }
   ],
   "source": [
    "# convert results to pandas daraframe\n",
    "\n",
    "tuned_df = pd.DataFrame(results, columns = [\"model\", \"score\"])\n",
    "tuned_df"
   ]
  },
  {
   "cell_type": "code",
   "execution_count": 13,
   "metadata": {},
   "outputs": [
    {
     "data": {
      "image/png": "[encoded data removed]",
      "text/plain": [
       "<Figure size 576x432 with 1 Axes>"
      ]
     },
     "metadata": {
      "needs_background": "light"
     },
     "output_type": "display_data"
    }
   ],
   "source": [
    "# visualization performances rank of models\n",
    "\n",
    "plt.figure(figsize = (8,6))\n",
    "sns.barplot(x = \"score\", y = \"model\", data = tuned_df.sort_values(by = \"score\", ascending = False));"
   ]
  },
  {
   "cell_type": "code",
   "execution_count": 14,
   "metadata": {},
   "outputs": [
    {
     "name": "stdout",
     "output_type": "stream",
     "text": [
      "KNeighborsClassifier\n",
      "\n",
      "\n",
      "{'algorithm': 'auto', 'leaf_size': 30, 'metric': 'minkowski', 'metric_params': None, 'n_jobs': None, 'n_neighbors': 5, 'p': 2, 'weights': 'uniform'}\n"
     ]
    }
   ],
   "source": [
    "# View Model and Best Parameters\n",
    "print(knn_tuned_model.__class__.__name__)\n",
    "print(\"\\n\")\n",
    "print(knn_tuned_model.get_params())"
   ]
  },
  {
   "cell_type": "code",
   "execution_count": 15,
   "metadata": {},
   "outputs": [
    {
     "name": "stdout",
     "output_type": "stream",
     "text": [
      "Train set accuracy: 0.984\n",
      "Test set accuracy: 0.977\n"
     ]
    }
   ],
   "source": [
    "# model accuracy score on train and test dataset\n",
    "\n",
    "print(\"Train set accuracy: %.3f\" % accuracy_score(y_train, knn_tuned_model.predict(X_train)))\n",
    "print(\"Test set accuracy: %.3f\" % accuracy_score(y_test,knn_tuned_model.predict(X_test)))"
   ]
  },
  {
   "cell_type": "code",
   "execution_count": 16,
   "metadata": {},
   "outputs": [
    {
     "data": {
      "text/plain": [
       "array([[319,   4],\n",
       "       [  4, 185]], dtype=int64)"
      ]
     },
     "execution_count": 16,
     "metadata": {},
     "output_type": "execute_result"
    }
   ],
   "source": [
    "# confusion matrix on train dataset\n",
    "\n",
    "confusion_matrix(y_train, knn_tuned_model.predict(X_train))"
   ]
  },
  {
   "cell_type": "code",
   "execution_count": 17,
   "metadata": {},
   "outputs": [
    {
     "data": {
      "text/plain": [
       "array([[117,   4],\n",
       "       [  0,  50]], dtype=int64)"
      ]
     },
     "execution_count": 17,
     "metadata": {},
     "output_type": "execute_result"
    }
   ],
   "source": [
    "# confusion matrix on test dataset\n",
    "\n",
    "confusion_matrix(y_test, knn_tuned_model.predict(X_test))"
   ]
  },
  {
   "cell_type": "code",
   "execution_count": 18,
   "metadata": {},
   "outputs": [
    {
     "name": "stdout",
     "output_type": "stream",
     "text": [
      "              precision    recall  f1-score   support\n",
      "\n",
      "           2       1.00      0.97      0.98       121\n",
      "           4       0.93      1.00      0.96        50\n",
      "\n",
      "    accuracy                           0.98       171\n",
      "   macro avg       0.96      0.98      0.97       171\n",
      "weighted avg       0.98      0.98      0.98       171\n",
      "\n"
     ]
    }
   ],
   "source": [
    "# classification report\n",
    "\n",
    "print(classification_report(y_test, knn_tuned_model.predict(X_test)))"
   ]
  },
  {
   "cell_type": "code",
   "execution_count": 19,
   "metadata": {},
   "outputs": [
    {
     "data": {
      "image/png": "[encoded data removed]",
      "text/plain": [
       "<Figure size 576x432 with 1 Axes>"
      ]
     },
     "metadata": {
      "needs_background": "light"
     },
     "output_type": "display_data"
    }
   ],
   "source": [
    "# Roc Auc score\n",
    "\n",
    "knn_roc_auc = roc_auc_score(y_test, knn_tuned_model.predict(X_test))\n",
    "\n",
    "fpr, tpr, thresholds = roc_curve(y_test, knn_tuned_model.predict_proba(X_test)[:,1], pos_label=4)\n",
    "plt.figure(figsize = (8,6))\n",
    "plt.plot(fpr, tpr, label='AUC (area = %0.2f)' % knn_roc_auc)\n",
    "plt.plot([0, 1], [0, 1],'r--')\n",
    "plt.xlim([0.0, 1.0])\n",
    "plt.ylim([0.0, 1.05])\n",
    "plt.xlabel('False Positive')\n",
    "plt.ylabel('True Positive')\n",
    "plt.title('KNeighbors CLassifier: Model Performance')\n",
    "plt.show()"
   ]
  },
  {
   "cell_type": "code",
   "execution_count": null,
   "metadata": {},
   "outputs": [],
   "source": []
  },
  {
   "cell_type": "code",
   "execution_count": null,
   "metadata": {},
   "outputs": [],
   "source": []
  }
 ],
 "metadata": {
  "kernelspec": {
   "display_name": "Python 3",
   "language": "python",
   "name": "python3"
  },
  "language_info": {
   "codemirror_mode": {
    "name": "ipython",
    "version": 3
   },
   "file_extension": ".py",
   "mimetype": "text/x-python",
   "name": "python",
   "nbconvert_exporter": "python",
   "pygments_lexer": "ipython3",
   "version": "3.7.4"
  }
 },
 "nbformat": 4,
 "nbformat_minor": 4
}
